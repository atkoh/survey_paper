{
 "metadata": {
  "name": ""
 },
 "nbformat": 3,
 "nbformat_minor": 0,
 "worksheets": [
  {
   "cells": [
    {
     "cell_type": "code",
     "collapsed": false,
     "input": [
      "from bs4 import BeautifulSoup\n",
      "import requests \n",
      "import pandas as pd\n",
      "\n",
      "r = requests.get('http://tournamentsoftware.com/sport/player.aspx?id=09C98312-A11A-4F8B-9CF9-0926A1777ADA&player=1266')"
     ],
     "language": "python",
     "metadata": {},
     "outputs": [],
     "prompt_number": 247
    },
    {
     "cell_type": "code",
     "collapsed": false,
     "input": [
      "data = r.text\n",
      "\n",
      "soup = BeautifulSoup(data)\n",
      "\n",
      "scores = soup.find_all('span', {\"class\":\"score\"})\n",
      "\n",
      "print scores"
     ],
     "language": "python",
     "metadata": {},
     "outputs": [
      {
       "output_type": "stream",
       "stream": "stdout",
       "text": [
        "[<span class=\"score\"><span>28-26</span> <span>21-17</span></span>, <span class=\"score\"><span>20-22</span> <span>21-18</span> <span>21-11</span></span>, <span class=\"score\"><span>16-21</span> <span>11-21</span></span>]\n"
       ]
      }
     ],
     "prompt_number": 248
    },
    {
     "cell_type": "code",
     "collapsed": false,
     "input": [
      "i = 0\n",
      "for match in scores:\n",
      "    i = i + 1\n",
      "    string = \"\\n Match \" + str(i) + \"\\n\"\n",
      "    print string\n",
      "    for game in match:\n",
      "        print game.string      "
     ],
     "language": "python",
     "metadata": {},
     "outputs": [
      {
       "output_type": "stream",
       "stream": "stdout",
       "text": [
        "\n",
        " Match 1\n",
        "\n",
        "28-26\n",
        " \n",
        "21-17\n",
        "\n",
        " Match 2\n",
        "\n",
        "20-22\n",
        " \n",
        "21-18\n",
        " \n",
        "21-11\n",
        "\n",
        " Match 3\n",
        "\n",
        "16-21\n",
        " \n",
        "11-21\n"
       ]
      }
     ],
     "prompt_number": 249
    },
    {
     "cell_type": "code",
     "collapsed": false,
     "input": [
      "data = {}\n",
      "\n",
      "i = 0\n",
      "for match in scores:\n",
      "    i = i + 1\n",
      "    string = \"Match \" + str(i)\n",
      "    for game in match:\n",
      "        data.setdefault(string,[]).append(game.string)\n"
     ],
     "language": "python",
     "metadata": {},
     "outputs": [],
     "prompt_number": 250
    },
    {
     "cell_type": "code",
     "collapsed": false,
     "input": [
      "print data # Get rid of empty spaces"
     ],
     "language": "python",
     "metadata": {},
     "outputs": [
      {
       "output_type": "stream",
       "stream": "stdout",
       "text": [
        "{'Match 1': [u'28-26', u' ', u'21-17'], 'Match 2': [u'20-22', u' ', u'21-18', u' ', u'21-11'], 'Match 3': [u'16-21', u' ', u'11-21']}\n"
       ]
      }
     ],
     "prompt_number": 251
    },
    {
     "cell_type": "code",
     "collapsed": false,
     "input": [
      "for key in data:\n",
      "    data[key] = [x for x in data[key] if x!= ' ']"
     ],
     "language": "python",
     "metadata": {},
     "outputs": [],
     "prompt_number": 252
    },
    {
     "cell_type": "code",
     "collapsed": false,
     "input": [
      "df = pd.DataFrame.from_dict(data, orient=\"index\")\n",
      "\n",
      "df.shape = (len(data),3)"
     ],
     "language": "python",
     "metadata": {},
     "outputs": [],
     "prompt_number": 253
    },
    {
     "cell_type": "code",
     "collapsed": false,
     "input": [
      "df.columns = ['Game 1', 'Game 2', 'Game 3']"
     ],
     "language": "python",
     "metadata": {},
     "outputs": [],
     "prompt_number": 254
    },
    {
     "cell_type": "code",
     "collapsed": false,
     "input": [
      "df.T"
     ],
     "language": "python",
     "metadata": {},
     "outputs": [
      {
       "html": [
        "<div style=\"max-height:1000px;max-width:1500px;overflow:auto;\">\n",
        "<table border=\"1\" class=\"dataframe\">\n",
        "  <thead>\n",
        "    <tr style=\"text-align: right;\">\n",
        "      <th></th>\n",
        "      <th>Match 1</th>\n",
        "      <th>Match 2</th>\n",
        "      <th>Match 3</th>\n",
        "    </tr>\n",
        "  </thead>\n",
        "  <tbody>\n",
        "    <tr>\n",
        "      <th>Game 1</th>\n",
        "      <td> 28-26</td>\n",
        "      <td> 20-22</td>\n",
        "      <td> 16-21</td>\n",
        "    </tr>\n",
        "    <tr>\n",
        "      <th>Game 2</th>\n",
        "      <td> 21-17</td>\n",
        "      <td> 21-18</td>\n",
        "      <td> 11-21</td>\n",
        "    </tr>\n",
        "    <tr>\n",
        "      <th>Game 3</th>\n",
        "      <td>  None</td>\n",
        "      <td> 21-11</td>\n",
        "      <td>  None</td>\n",
        "    </tr>\n",
        "  </tbody>\n",
        "</table>\n",
        "</div>"
       ],
       "metadata": {},
       "output_type": "pyout",
       "prompt_number": 255,
       "text": [
        "       Match 1 Match 2 Match 3\n",
        "Game 1   28-26   20-22   16-21\n",
        "Game 2   21-17   21-18   11-21\n",
        "Game 3    None   21-11    None"
       ]
      }
     ],
     "prompt_number": 255
    },
    {
     "cell_type": "code",
     "collapsed": false,
     "input": [],
     "language": "python",
     "metadata": {},
     "outputs": [],
     "prompt_number": 255
    },
    {
     "cell_type": "code",
     "collapsed": false,
     "input": [],
     "language": "python",
     "metadata": {},
     "outputs": [],
     "prompt_number": 255
    },
    {
     "cell_type": "code",
     "collapsed": false,
     "input": [],
     "language": "python",
     "metadata": {},
     "outputs": []
    }
   ],
   "metadata": {}
  }
 ]
}