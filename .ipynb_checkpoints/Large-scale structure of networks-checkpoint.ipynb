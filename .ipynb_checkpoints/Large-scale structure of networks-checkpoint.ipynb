{
 "metadata": {
  "name": ""
 },
 "nbformat": 3,
 "nbformat_minor": 0,
 "worksheets": [
  {
   "cells": [
    {
     "cell_type": "markdown",
     "metadata": {},
     "source": [
      "Large-Scale Structure of Networks\n",
      "====================================\n",
      "\n",
      "Here we look at patterns in networks. Some topics include component sizes, path lengths, and degree distributions.\n",
      "\n",
      "## Components\n",
      "\n",
      "In undirected networks, we often find a large component fills most of the network, with small components around it. We call the large component a giant component.\n",
      "\n",
      "### Components in Directed Networks\n",
      "\n",
      "For directed networks, there are strongly and weakly connected components. Being strongly connected implies weak connection, but not vice versa. \n",
      "\n",
      "A strongly connected component is \"a maximal subset of vertices such that each can reach and is reachable from all of the others along a directed path\". A weakly connected component has an directed and undirected path from and to each vertex. "
     ]
    },
    {
     "cell_type": "markdown",
     "metadata": {},
     "source": [
      "## Shortest Paths and the Small-World Effect\n",
      "\n",
      "Each person is seperated by on average 6 different people. The small-world effect, we call it, translated mathematically would mean that on average, we traverse 6 edges to get to any node. This was the result of Stanley Milgram's letter-passing experiment. How does this result hold in networks where we have real data on? Even with networks with millions of vertices, results show that the mean distance between vertices is usually less than 10 and always less than 20.\n",
      "\n",
      "This is important for measuring the rate of the spread of disease or information. Mathematically we expect the path lengths of networks scale as log(n) where n in the number of network vertices (explained in Chapter 12 of Newman, and a later notebook). \n",
      "\n",
      "The diameter of a network is the length of longest finite geodesic path in the network. It scales as log(n) as well (usually). \n",
      "\n",
      "There is also an effect where there are some \"well-connected\" vertices, as found in Milgram's experiment, where they \"funnel\" the information between the lower degree vertices. "
     ]
    },
    {
     "cell_type": "markdown",
     "metadata": {},
     "source": [
      "## Degree Distributions\n",
      "\n",
      "The frequency distribution of vertex degrees in networks is an important property. Defining $p_k$ as the fraction of vertices having degree k, we can find the degree distribution of a network. Let us look at the collaboration network of authors for the Arxiv General Relativity category."
     ]
    },
    {
     "cell_type": "code",
     "collapsed": false,
     "input": [
      "%matplotlib inline\n",
      "\n",
      "import networkx as nx\n",
      "import matplotlib.pyplot as plt\n",
      "\n",
      "fh = open(\"../../Data/CA-GrQc.txt\",'rb') #Read in data\n",
      "\n",
      "G = nx.read_edgelist(fh)\n",
      "\n",
      "fh.close()\n",
      "\n",
      "num_edges = G.size()\n",
      "\n",
      "num_nodes = G.number_of_nodes()\n",
      "\n",
      "print(\"There are {} nodes and {} edges in this graph.\".format(num_nodes, num_edges))\n"
     ],
     "language": "python",
     "metadata": {},
     "outputs": [
      {
       "output_type": "stream",
       "stream": "stdout",
       "text": [
        "There are 5242 nodes and 14496 edges in this graph.\n"
       ]
      }
     ],
     "prompt_number": 2
    },
    {
     "cell_type": "code",
     "collapsed": false,
     "input": [
      "### Plot the degree distribution ###\n",
      "\n",
      "y_degrees = nx.degree_histogram(G)\n",
      "\n",
      "y_freq = [float(i)/num_nodes for i in y_degrees]\n",
      "\n",
      "degrees = range(len(y_degrees))\n",
      "\n",
      "plt.bar(degrees,y_freq)\n",
      "\n",
      "plt.xlabel(\"Degree\")\n",
      "\n",
      "plt.show()"
     ],
     "language": "python",
     "metadata": {},
     "outputs": [
      {
       "metadata": {},
       "output_type": "display_data",
       "png": "[encoded data removed]",
       "text": [
        "<matplotlib.figure.Figure at 0x7f71cfbc5d10>"
       ]
      }
     ],
     "prompt_number": 3
    },
    {
     "cell_type": "markdown",
     "metadata": {},
     "source": [
      "The degree distribution is not unique to a network. Different networks can have the same degree distribution. Notice the plot above has most of the vertices having low degree (less than 10), and tails off around 20. The highest degree of a vertex is 81. This well-connected vertex is called a hub.\n",
      "\n",
      "Almost all real-world networks have degree distributrions with a tail such as the above. \n",
      "\n",
      "For a directed network, the degree distribution is a joint distribution of the in and out degrees. We can plot it as a two-dimesional density plot. We define $p_{jk}$ as the fraction of vertices having in degree j and out degree k. We can see the correlation between the in and out degrees of vertices this way. "
     ]
    },
    {
     "cell_type": "markdown",
     "metadata": {},
     "source": [
      "## Power Laws and Scale-Free Networks\n",
      "\n",
      "Replotting the above plot using logarithmic scales, the degree distribution follows roughly a straight line. The logarithm of the degree distribution is a linear function of the degree, which means:\n",
      "\n",
      "$$ \\ln p_k = -\\alpha \\ln k + c ,$$\n",
      "\n",
      "where $\\alpha$ and c are constants. Taking the exponential of both sides, we get:\n",
      "\n",
      "$$ p_k = C k^{-\\alpha} ,$$\n",
      "\n",
      "where $C = e^c$ is another constant. We call distributions of this form, power laws. Alpha is the exponent of the power law. It is usually between 2 to 3. We fix C for normalization. The power law is usually obeyed by the tail of the distribution, but not for small k. We usually imply that the tail follows a power law when we say a network has a power law degree distribution. Somtimes we call these scale-free networks. Below is the Arxiv coauthorship network degree distribution in logarithmic scale."
     ]
    },
    {
     "cell_type": "code",
     "collapsed": false,
     "input": [
      "import numpy as np\n",
      "\n",
      "plt.bar(degrees,y_freq, log=True)\n",
      "\n",
      "plt.xlabel(\"Log Degree\")\n",
      "\n",
      "plt.xscale(\"log\")\n",
      "\n",
      "plt.show()"
     ],
     "language": "python",
     "metadata": {},
     "outputs": [
      {
       "metadata": {},
       "output_type": "display_data",
       "png": "[encoded data removed]",
       "text": [
        "<matplotlib.figure.Figure at 0x7f71ca494a10>"
       ]
      }
     ],
     "prompt_number": 4
    },
    {
     "cell_type": "markdown",
     "metadata": {},
     "source": [
      "### Detecting and Visualizing Power Laws\n",
      "\n",
      "We can visualize the distribution with a histogram and play with the width of the bins to get a more accurate picture. We can make every bin a different size, each progressive one larger. We call this logarithmic binning. We increase each bin by a factor w. \n",
      "\n",
      "So if the first bin covers degree from $1 \\leq k < 2$, it has width w = 1. Then the next bin would cover 2 degrees, namely degrees 2 and 3. For the nth bin, we have width $(w-1) a^n - 1$. We usually chose w to be equal to 2. \n",
      "\n",
      "Another way to visualize the power-law distribution is to construct the cumulative distribution function:\n",
      "\n",
      "$$ P_k = \\sum_{k'=k}^\\infty p_{k'}$$\n",
      "\n",
      "If the degree distribution follows a power law in the tail (or from $k_{min}$), then $p_k = C k ^{-\\alpha}$ for $k\\geq k_{min}$. So we end up with:\n",
      "\n",
      "$$ P_k = C\\sum_{k'=k}^\\infty k'^{-\\alpha} = C \\int_k^{\\infty} k'^{-\\alpha} \\mathrm{d}k' = \\frac {C}{\\alpha - 1} k^{-\\alpha-1} $$\n",
      "\n",
      "Given some assumptions such as alpha being greater than 1 and the power law is a slowly varying function for a large k, we can see that the cumulative distribution function also follows a power law but with a different exponent. Plotting the cumulative distribution in log-log scales, we should see a straight line behaviour. \n",
      "\n",
      "To get the CDF, we sort the degrees in descending order, then we number the degrees according to their order starting at 1 all the way up to n, the number of vertices in the network. We call that number the rank of the vertex. We take $P_k$ to be the rank divided by the number of vertices n, and we plot $P_k$ against the degree k to get the CDF."
     ]
    },
    {
     "cell_type": "code",
     "collapsed": false,
     "input": [
      "k = sorted(G.degree().values(),reverse=True) #sort degrees in descending order\n",
      "\n",
      "r = range(1,len(k)+1)\n",
      "\n",
      "Pk = [float(i)/num_nodes for i in r] #find Pk\n",
      "\n",
      "plt.plot(k,Pk,'-')\n",
      "\n",
      "plt.xscale('log')\n",
      "\n",
      "plt.yscale('log')\n",
      "\n",
      "plt.show()"
     ],
     "language": "python",
     "metadata": {},
     "outputs": [
      {
       "metadata": {},
       "output_type": "display_data",
       "png": "[encoded data removed]",
       "text": [
        "<matplotlib.figure.Figure at 0x7f71e8814250>"
       ]
      }
     ],
     "prompt_number": 5
    },
    {
     "cell_type": "markdown",
     "metadata": {},
     "source": [
      "We haven't chosen a value of $k_{min}$ such that the power law is exhibited, so we do not see a straight line. This is a more statistical problem which we shall not go into (nor does Newman). "
     ]
    },
    {
     "cell_type": "markdown",
     "metadata": {},
     "source": [
      "### Properties of Power-Law Distributions\n",
      "\n",
      "The degree distribution must have the sum of all $p_k = 1$. There must be no vertices of degree zero, with $p_0 =0$. We normalize by fixing C. Assume that from our previous equation, $c \\sum_k k^{-\\alpha} = 1$, which means $C = \\frac{1}{c \\sum_k k^{-\\alpha}}$. We assume k starts at k = 1. We call the denominator previously the Riemann zeta function, and thus:\n",
      "\n",
      "$$p_k = \\frac{k^{-\\alpha}} {\\zeta (\\alpha)}$$\n",
      "\n",
      "Usually, only the tail of the distribution follows a power law, so we start at some minimum value of $k_{min}$ as opposed to k = 1, giving us:\n",
      "\n",
      "$$p_k = \\frac{k^{-\\alpha}} {\\zeta (\\alpha, k_{min})}$$\n",
      "\n",
      "The denominator is known as the generalized/incomplete zeta function. We could approximate the sum with an integral so the incomplete zeta function turns into:\n",
      "\n",
      "$$ \\sum_{k=k_{min}}^{\\infty} k^{-\\alpha} \\simeq \\int_{k=k_{min}}^{\\infty} k^{-\\alpha} \\mathrm{d} k$$\n",
      "\n",
      "Which when simplified further our degree distribution has:\n",
      "\n",
      "$$p_k = C k^{-\\alpha} \\simeq \\frac{\\alpha - 1}{k_{min}} (\\frac{k}{k_{min}})^{-\\alpha}$$\n",
      "\n",
      "The CDF is therefore:\n",
      "\n",
      "$$ P_k = (\\frac{k}{k_{min}})^{-(\\alpha - 1)}$$\n",
      "\n",
      "The moments of the degree distribution are defined as:\n",
      "\n",
      "$$<k^m> = \\sum_{k=0}^\\infty k^m p_k, $$\n",
      "\n",
      "where m = 1 is the first moment, m = 2 is the second moment, and so on so forth.\n",
      "\n",
      "One result that Newman proved is that the moment will diverge if $m \\geq \\alpha -1$. We have a finite second moment iff alpha > 3. This result can be misleading because any finite network has finite moments. \n",
      "\n",
      "For most scale-free networks, alpha should be between 2 to 3, which means that the second moment should theoretically diverge, or empirically be very large. \n",
      "\n",
      "<b>Top-heavy distribtions:</b> Another quantity of interest is the fraction of edges that connect to the vertices with highest degrees. We plot the fraction of ends of edges W in the y-axis against the fraction of vertices of the highest-degree vertices P to get the \"Lorenz curves\". \n",
      "\n",
      "A real life example would be that in paper citations, about 8.3% of the most cited papers get 50% of all citations. "
     ]
    },
    {
     "cell_type": "markdown",
     "metadata": {},
     "source": [
      "## Distributions of Other Centrality Measures\n",
      "\n",
      "Other measures of centrality such as eigenvector centrality also have a highly right-skewed distribution. The tail follows a power-law as well. This is true for betweenness centrality as well.\n",
      "\n",
      "For closeness centrality, this is not true, there is no long tail, because the values of closeness centrality are limited usually have a small range."
     ]
    },
    {
     "cell_type": "markdown",
     "metadata": {},
     "source": [
      "## Clustering Coefficients\n",
      "\n",
      "They measure the average probability that two neighbours of a vertex are also neighbours. It's basically a measure oft he density of triangles in the network. \n",
      "\n",
      "If we take a network and assume the vertices make connections at random, the clustering coefficient is then:\n",
      "\n",
      "$$ C = \\frac{1}{n} \\frac{[<k^2> - <k>]^2}{<k>^3}$$"
     ]
    },
    {
     "cell_type": "code",
     "collapsed": false,
     "input": [
      "### Calculate theoretical clustering coefficient by getting the moments ###\n",
      "\n",
      "k = G.degree().values()\n",
      "\n",
      "freq_dict = {x:k.count(x) for x in k}\n",
      "\n",
      "k, freq = freq_dict.keys(), freq_dict.values()\n",
      "\n",
      "k = np.matrix(k)\n",
      "\n",
      "print np.shape(k) # It is a row vector\n",
      "\n",
      "freq = np.matrix(freq)\n",
      "\n",
      "print np.shape(freq) #Also row vector\n",
      "\n",
      "pk = freq/float(num_nodes)"
     ],
     "language": "python",
     "metadata": {},
     "outputs": [
      {
       "output_type": "stream",
       "stream": "stdout",
       "text": [
        "(1, 65)\n",
        "(1, 65)\n"
       ]
      }
     ],
     "prompt_number": 70
    },
    {
     "cell_type": "code",
     "collapsed": false,
     "input": [
      "k2 = np.power(k,2)\n",
      "\n",
      "k3 = np.power(k,3)"
     ],
     "language": "python",
     "metadata": {},
     "outputs": [],
     "prompt_number": 65
    },
    {
     "cell_type": "code",
     "collapsed": false,
     "input": [
      "first_moment = float(pk * k.T)\n",
      "\n",
      "second_moment = float(pk * k2.T)\n",
      "\n",
      "third_moment = float(pk * k3.T)\n",
      "\n",
      "print first_moment, second_moment, third_moment"
     ],
     "language": "python",
     "metadata": {},
     "outputs": [
      {
       "output_type": "stream",
       "stream": "stdout",
       "text": [
        "5.53071346814 93.289965662 3111.34452499\n"
       ]
      }
     ],
     "prompt_number": 73
    },
    {
     "cell_type": "code",
     "collapsed": false,
     "input": [
      "cluster_coeff = 1./(num_nodes) * (second_moment - first_moment)**2 / first_moment**3 ### Theoretically, if connections are random\n",
      "\n",
      "print (\"The clustering coefficient is: {:.10f}.\").format(cluster_coeff)"
     ],
     "language": "python",
     "metadata": {},
     "outputs": [
      {
       "output_type": "stream",
       "stream": "stdout",
       "text": [
        "The clustering coefficient is: 0.0086845103\n"
       ]
      }
     ],
     "prompt_number": 83
    },
    {
     "cell_type": "code",
     "collapsed": false,
     "input": [
      "av_c = nx.average_clustering(G) ### Actual\n",
      "\n",
      "print (\"The actual clustering coefficient is: {:.10f}.\").format(av_c)"
     ],
     "language": "python",
     "metadata": {},
     "outputs": [
      {
       "output_type": "stream",
       "stream": "stdout",
       "text": [
        "The actual clustering coefficient is: 0.5296358111.\n"
       ]
      }
     ],
     "prompt_number": 86
    },
    {
     "cell_type": "markdown",
     "metadata": {},
     "source": [
      "### Local Clustering Coefficient\n",
      "\n",
      "From the previous notebook, we gave the equation to find the local clustering coefficient for a vertex. The distribution of the LCC's for the entire network shows that on average, the value is lower for vertices of high degree. LCC's of vertices in small groups tend to be larger, as they form little factions disconnected from the rest of the network. "
     ]
    },
    {
     "cell_type": "markdown",
     "metadata": {},
     "source": [
      "\n"
     ]
    },
    {
     "cell_type": "code",
     "collapsed": false,
     "input": [],
     "language": "python",
     "metadata": {},
     "outputs": []
    },
    {
     "cell_type": "code",
     "collapsed": false,
     "input": [],
     "language": "python",
     "metadata": {},
     "outputs": []
    }
   ],
   "metadata": {}
  }
 ]
}