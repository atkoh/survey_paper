{
 "metadata": {
  "name": ""
 },
 "nbformat": 3,
 "nbformat_minor": 0,
 "worksheets": [
  {
   "cells": [
    {
     "cell_type": "markdown",
     "metadata": {},
     "source": [
      "Preliminaries\n",
      "========================================================\n",
      "\n",
      "## Foreword\n",
      "\n",
      "This write-up lays a foundation for the more specific topics in the survey paper. Most of the material here is a summary of MEJ Newman's book \"Networks\". \n",
      "\n",
      "Some useful links:\n",
      "\n",
      "http://www.math.ucsd.edu/~fan/wp/randomg.pdf\n",
      "\n",
      "http://www.sg.ethz.ch/media/publication_files/KonigBattiston2009.pdf\n",
      "\n",
      "### Introduction\n",
      "\n",
      "Essentially, \"a network is a collection of points joined together in pairs by lines\" (Newman, 2010). We call the the points verticies/nodes, and the lines edges. \n",
      "\n",
      "Facebook, is an example of a collection of connections of nodes and edges. Often we are interested in uncovering some patterns between friends (perhaps to find cliques). We want to break down and analyze the structure of the these patterns, which form a network. For example, we might be interested in how far the two \"clique\" centers are, or how many nodes (people) do we go through to connect person A to person B? Understanding the structure of a network gives us insight into these types of questions.\n",
      "\n",
      "Sometimes a network is so large and complex, we can only make an estimate of its size. However, we are often interested in its structure. The world wide web, is a collection of links between web pages. Google has built a billion dollar business around understanding the structure of the world wide web, and extracting information from it. One interesting property of the web is that we have a directed network. Sometimes web pages are linked only in one way, as in we can go from website A to B, but not from B to A. The web has edges that are directed.\n",
      "\n",
      "Other examples of networks include biochemical, telephone, airway, power, email, disease, and social networks.\n",
      "\n",
      "Some properties about a network we can pick out visually, but for large networks we, it is a difficult task. With large networks, we rely on a variety of measures, with which we can describe a model of the network. \n",
      "\n",
      "Centrality is such a measure, and it tells us how important vertices or edges in a network are. The degree of a vertex is a measure of centrality, and it is the number of edges that touches it. A person with many friends has a high degree in the social network. We are interested in this person, because often times, they are important in understanding the dynamics of the group. These \"hubs\" play a central role in the network.\n",
      "\n",
      "Another interest to people, is the small-world effect. Even though most people in the school are not directly connected to each other, a rumour (such as the shutdown of a program) can spread to each person via a few number of steps. A similar question may be what is the minimum distance between two vertices (e.g. one's Erdos number)? What about clusters of people, how can we determine how many and who are in the groups?"
     ]
    },
    {
     "cell_type": "markdown",
     "metadata": {},
     "source": [
      "### Mathematics of Networks\n",
      "\n",
      "This section is about adjacency matrices, weighted networks, directed networks, hypdergraphs, bipartite networks, trees, planar networks, graph Lapalacian, and random walks. \n",
      "\n",
      "Network is considered a \"graph\" in mathematics. Some pairs of vertices have multiedges, some have edges connected to themselves, called self-edges/loops.\n",
      "\n",
      "No multiedges, a simple network/graph, otherwise multigraph.\n",
      "\n",
      "We have 1,..., n vertices, in undirected graph/network. An edge is labeled as (i,j). The set of all edges is an edge list.\n",
      "\n",
      "Better repesentation is an adjacency matrix. "
     ]
    },
    {
     "cell_type": "markdown",
     "metadata": {},
     "source": [
      "$$A_{ij}  = \n",
      "\\left\\{\\begin{matrix}\n",
      "1; & \\text{ if there is an edge betwen vertices i and j}\\\\\n",
      "0; & \\text{otherwise}\n",
      "\\end{matrix}\\right.$$"
     ]
    },
    {
     "cell_type": "markdown",
     "metadata": {},
     "source": [
      "A network with no self-edges have a 0 main diagonal, and symmetric if not directed.\n",
      "\n",
      "Multiedge has $A_{ij} = A_{ji}= n$, where n is the number of edges between the two vertices.\n",
      "\n",
      "For self-edges, we have $A_{ii} = 2$. \n",
      "\n",
      "Some edges, like those representing internet links, might have a weight representing how much data flows between them. We represent the weights with through the adjency matrix. For example if $A_{12} = A_{21} = 2$ and $A_{13} = A_{31} = 1$, the connection between vertices 2 and 1 is twice as strong as that between 3 and 1. We can have negative weights (bad relationship between friends). We can also give vertices weights."
     ]
    },
    {
     "cell_type": "code",
     "collapsed": false,
     "input": [
      "%matplotlib inline\n",
      "\n",
      "import networkx as nx\n",
      "import matplotlib.pyplot as plt\n",
      "import numpy as np\n",
      "\n",
      "### A Simple Undirected Graph ###\n",
      "\n",
      "G_simple = nx.Graph()\n",
      "\n",
      "G_simple.add_nodes_from([1,2,3,4])\n",
      "\n",
      "G_simple.add_edges_from([(1,2),(2,3),(3,4),(4,1)])\n",
      "\n",
      "A = nx.to_numpy_matrix(G_simple)\n",
      "\n",
      "print A # The matrix will be symmetric with 0's along diagonal\n",
      "\n"
     ],
     "language": "python",
     "metadata": {},
     "outputs": [
      {
       "output_type": "stream",
       "stream": "stdout",
       "text": [
        "[[ 0.  1.  0.  1.]\n",
        " [ 1.  0.  1.  0.]\n",
        " [ 0.  1.  0.  1.]\n",
        " [ 1.  0.  1.  0.]]\n"
       ]
      }
     ],
     "prompt_number": 120
    },
    {
     "cell_type": "code",
     "collapsed": false,
     "input": [
      "nx.draw(G_simple, with_labels=True)"
     ],
     "language": "python",
     "metadata": {},
     "outputs": [
      {
       "metadata": {},
       "output_type": "display_data",
       "png": "[encoded data removed]",
       "text": [
        "<matplotlib.figure.Figure at 0x7f98dd6d9110>"
       ]
      }
     ],
     "prompt_number": 36
    },
    {
     "cell_type": "markdown",
     "metadata": {},
     "source": [
      "#### Directed Networks\n",
      "\n",
      "Another name is a digraph, edges have a direction (directed edges). We can see this from an asymmetric matrix.\n",
      "\n",
      "Sometimes, we turn a digraph into an undirected one because it is easier to analyze. We do not simply ignore the directions, we use \"cocitation\". \n",
      "\n",
      "The cocitation of two vertices i and j, is the total number of vertices that have edges directed at both i and j. In other words, $A_{ik} A_{jk} = 1$ if i and j are both \"cited\" by k. We sum out over all k, $$C_{ij} = \\sum\\limits_{k=1}^n A_{ik} A_{jk}$$ or $$C = AA^T$$\n",
      "\n",
      "C is a symmetric matrix.\n",
      "\n",
      "Strong cocitation between papers usually implies they are related. \n",
      "\n",
      "A cocitation network has an edge between i and j if $C_{ij} > 0 $ for i not equal to j. \n",
      "\n",
      "The diagonal elements indicate the number of edges pointing to i, citing it. It is given by $C_{ii} = \\sum\\limits_{k=1}^n A^2_{ik}$.\n",
      "\n",
      "A similar concept is bibliographic coupling. It measures how many papers the i and j both cite. It is computed as $$B_ij = \\sum\\limits_{k=1}^n A_{ki} A_{kj}$$ or $$B = A^TA$$\n",
      "\n",
      "\n",
      "<u> Acyclic Directed Networks </u>\n",
      "\n",
      "Cycle in directed network, has edges pointing same way around a closed loop. Without cycles, they are called acyclic networks. A self-edge counts as a cycle.\n",
      "\n",
      "Usually citation networks are acyclic directed networks.\n",
      "\n",
      "Algorithm for determining if a network is acyclic:\n",
      "\n",
      "1. Find vertex with no outgoing edges\n",
      "2. If cannot find that vertex, network is cyclic. If found, remove it and all its ingoing edges from the network\n",
      "3. Repeat step 1 and 2 until all vertices are removed. When they are, the network is acyclic"
     ]
    },
    {
     "cell_type": "code",
     "collapsed": false,
     "input": [
      "# A cyclic directed network\n",
      "\n",
      "G_directed = nx.DiGraph()\n",
      "\n",
      "G_directed.add_nodes_from(range(1,10))\n",
      "\n",
      "G_directed.add_path(range(1,5))\n",
      "\n",
      "G_directed.add_path(range(9,2,-1))\n",
      "\n",
      "G_directed.add_edges_from([(2,9)])\n",
      "\n",
      "nx.draw_random(G_directed, with_labels=True)"
     ],
     "language": "python",
     "metadata": {},
     "outputs": [
      {
       "metadata": {},
       "output_type": "display_data",
       "png": "[encoded data removed]",
       "text": [
        "<matplotlib.figure.Figure at 0x7f98d9d83710>"
       ]
      }
     ],
     "prompt_number": 58
    },
    {
     "cell_type": "code",
     "collapsed": false,
     "input": [
      "### Finding the cocitation and bibliographic coupling ###\n",
      "\n",
      "# First find the adjacency matrix, it should be asymmetric\n",
      "\n",
      "A_dg = nx.to_numpy_matrix(G_directed)\n",
      "\n",
      "print(A_dg)"
     ],
     "language": "python",
     "metadata": {},
     "outputs": [
      {
       "output_type": "stream",
       "stream": "stdout",
       "text": [
        "[[ 0.  1.  0.  0.  0.  0.  0.  0.  0.]\n",
        " [ 0.  0.  1.  0.  0.  0.  0.  0.  1.]\n",
        " [ 0.  0.  0.  1.  0.  0.  0.  0.  0.]\n",
        " [ 0.  0.  1.  0.  0.  0.  0.  0.  0.]\n",
        " [ 0.  0.  0.  1.  0.  0.  0.  0.  0.]\n",
        " [ 0.  0.  0.  0.  1.  0.  0.  0.  0.]\n",
        " [ 0.  0.  0.  0.  0.  1.  0.  0.  0.]\n",
        " [ 0.  0.  0.  0.  0.  0.  1.  0.  0.]\n",
        " [ 0.  0.  0.  0.  0.  0.  0.  1.  0.]]\n"
       ]
      }
     ],
     "prompt_number": 55
    },
    {
     "cell_type": "markdown",
     "metadata": {},
     "source": [
      "Now we find the cocitation by taking the transpose of the adjacency matrix times itself."
     ]
    },
    {
     "cell_type": "code",
     "collapsed": false,
     "input": [
      "C = A_dg.T * A_dg\n",
      "\n",
      "print C"
     ],
     "language": "python",
     "metadata": {},
     "outputs": [
      {
       "output_type": "stream",
       "stream": "stdout",
       "text": [
        "[[ 0.  0.  0.  0.  0.  0.  0.  0.  0.]\n",
        " [ 0.  1.  0.  0.  0.  0.  0.  0.  0.]\n",
        " [ 0.  0.  2.  0.  0.  0.  0.  0.  1.]\n",
        " [ 0.  0.  0.  2.  0.  0.  0.  0.  0.]\n",
        " [ 0.  0.  0.  0.  1.  0.  0.  0.  0.]\n",
        " [ 0.  0.  0.  0.  0.  1.  0.  0.  0.]\n",
        " [ 0.  0.  0.  0.  0.  0.  1.  0.  0.]\n",
        " [ 0.  0.  0.  0.  0.  0.  0.  1.  0.]\n",
        " [ 0.  0.  1.  0.  0.  0.  0.  0.  1.]]\n"
       ]
      }
     ],
     "prompt_number": 59
    },
    {
     "cell_type": "markdown",
     "metadata": {},
     "source": [
      "We see that paper 3 is cited by both papers 2 and 4, hence the value \"2\" at position (3,3). Paper 1 has no one citing it, hence there is a \"0\" at position (1,1). \n",
      "\n",
      "The bibliographic coupling is found by taking the adjacency matrix and multiplying by its transpose."
     ]
    },
    {
     "cell_type": "code",
     "collapsed": false,
     "input": [
      "B = A_dg * A_dg.T\n",
      "\n",
      "print B"
     ],
     "language": "python",
     "metadata": {},
     "outputs": [
      {
       "output_type": "stream",
       "stream": "stdout",
       "text": [
        "[[ 1.  0.  0.  0.  0.  0.  0.  0.  0.]\n",
        " [ 0.  2.  0.  1.  0.  0.  0.  0.  0.]\n",
        " [ 0.  0.  1.  0.  1.  0.  0.  0.  0.]\n",
        " [ 0.  1.  0.  1.  0.  0.  0.  0.  0.]\n",
        " [ 0.  0.  1.  0.  1.  0.  0.  0.  0.]\n",
        " [ 0.  0.  0.  0.  0.  1.  0.  0.  0.]\n",
        " [ 0.  0.  0.  0.  0.  0.  1.  0.  0.]\n",
        " [ 0.  0.  0.  0.  0.  0.  0.  1.  0.]\n",
        " [ 0.  0.  0.  0.  0.  0.  0.  0.  1.]]\n"
       ]
      }
     ],
     "prompt_number": 61
    },
    {
     "cell_type": "markdown",
     "metadata": {},
     "source": [
      "Paper 2 cites 2 papers, and papers 3 and 5 cite one paper in common (paper 4). "
     ]
    },
    {
     "cell_type": "markdown",
     "metadata": {},
     "source": [
      "#### Hypergraphs\n",
      "\n",
      "Some edges join more than two vertices. These are called hyperedges, and a network with hyperedges are called hypergraphs.\n",
      "\n",
      "Families are some sort of group which can be represented by hypergraphs. One way of representing a hypergraph, is the bipartite network.\n",
      "\n",
      "<u>Bipartite Networks</u>\n",
      "\n",
      "There are two kinds of vertices in bipartite networks: the subject level vertex and the group level vertex. Actors and the films they appear in for example, can be represented by a bipartite network. The edges only connect the two different vertex types (subject to group). \n",
      "\n",
      "The adjacency matrix for a bipartite network is called an incidence matrix. For g groups and n subjects, the matrix B is a g by n matrix such that \n",
      "\n",
      "$$B_{ij}  = \n",
      "\\left\\{\\begin{matrix}\n",
      "1; & \\text{ if vertex j belongs to group i }\\\\\n",
      "0; & \\text{otherwise}\n",
      "\\end{matrix}\\right.$$\n",
      "\n",
      "We work with the one-mode projection from the two-mode bipartite network. We can seperate the groups from the subjects by creating a subject level network, where subjects are connected if they were in the same group. Whereas in the group level network, we can connect the vertices if the two groups share a subject.\n",
      "\n",
      "We discard information to make it easier to work with. To regain the information, we give a weight to the projection, by giving an edge between two vertices an weight, we capture the number of groups the vertices share. \n",
      "\n",
      "The projection of the groups onto subjects or subjects onto the groups is captured by the adjacency matrix $P = B B^T$ or $P = B^T B$. With the groups, we end up with a g by g matrix, and with subjects, n by n. \n",
      "\n",
      "<u> Trees </u>\n",
      "\n",
      "A tree is a connected network with no closed loops. Seperate trees make a forest. \n",
      "\n",
      "One property of trees is only one path between any pair of vertices, otherwise, we'd make a loop. \n",
      "\n",
      "A tree with n verticies has exactly n-1 edges. \n",
      "\n",
      "<u> Planar Networks </u>\n",
      "\n",
      "A planar network can be drawn on a plane without edges crossing. It CAN be drawn with crossing edges, but if it is possible to be drawn without, then it is planar. \n",
      "\n",
      "All trees are planar. \n",
      "\n",
      "Usually, borders of countries can be depicted using a planar network. We can colour regions on a map, with at most four colours, such that no two adjacent regions have the same colour. We can translate this to colouring the vertices such that no two vertices connected by the same edge have the same colour. The number of colours required to colour the vertices is called the chromatic number.\n",
      "\n",
      "If we add extra vertices in the middle of edges, we perform an expansion. We cannot make a non-planar network planar by doing this.\n",
      "\n",
      "![UG_K5](files/UG_K5.png)\n",
      "\n",
      "The Kuratowski reduction theorem states that every non-planar network contains at least one subgraph that is an expansion of K_5 or UG.\n",
      "\n",
      "Though what we are interested in is usually the degree of planarity and not whether it is absolutely planar or not.\n",
      "\n",
      "<u> Degree </u>\n",
      "\n",
      "The number of edges connected to a vertex is the degree of it. For an undirected network with n vertices, we can determine the degree for vertex i by $$k_i = \\sum\\limits_{j=1}^n A_{ij}$$\n",
      "\n",
      "Each edge has two ends, so with m edges, we have 2m ends. The total degree is equal to the number of ends of edges. In other words $$2m = \\sum_{i=1}^n k_i$$ \n",
      "\n",
      "Solving for m we have $$m=0.5 \\sum_{i=1}^n k_i = 0.5 \\sum_{ij} A_{ij}$$\n",
      "\n",
      "The mean degree of a vertex in an undirected network can be written as $$c=1/n \\sum_{i=1}^n k_i = \\frac{2m}{n}$$\n",
      "\n",
      "In a simple graph, we have a maximum of n choose 2 edges. Denoting $\\rho$ the density of the graph, we have $$\\rho = \\frac{m}{1/2 n (n-1)} = \\frac{2m}{n(n-1)} = \\frac{c}{n-1}$$\n",
      "\n",
      "For large networks, we simplify the equation to $\\rho = \\frac{c}{n}$. \n",
      "\n",
      "If n goes to infinity and rho stays constant, the network is \"dense\". If rho goes to zero as n goes to infinity, it is sparse, and the fraction of non-zero elements in the adjacency matrix goes to zero.\n",
      "\n",
      "A regular graph has vertices all with the same degree k, is called k-regular.  \n",
      "\n",
      "For directed networks, there is an in-degree and out-degree (number of incoming edges and outgoing edges). \n",
      "\n",
      "$$k_i^{in} = k_j^{out} = m = \\sum_{ij} A_{ij}$$\n",
      "\n",
      "The mean in-degree and mean out-degree in a directed network is the same (divide above equation by n, resulting in m/n). "
     ]
    },
    {
     "cell_type": "code",
     "collapsed": false,
     "input": [
      "# Take our first simple graph and add an edge, let's find the degrees\n",
      "\n",
      "G_simple.add_edge(2,4)\n",
      "\n",
      "nx.draw(G_simple, with_labels=True)\n",
      "\n",
      "A = nx.to_numpy_matrix(G_simple)\n",
      "\n",
      "print A"
     ],
     "language": "python",
     "metadata": {},
     "outputs": [
      {
       "output_type": "stream",
       "stream": "stdout",
       "text": [
        "[[ 0.  1.  0.  1.]\n",
        " [ 1.  0.  1.  1.]\n",
        " [ 0.  1.  0.  1.]\n",
        " [ 1.  1.  1.  0.]]\n"
       ]
      },
      {
       "metadata": {},
       "output_type": "display_data",
       "png": "[encoded data removed]",
       "text": [
        "<matplotlib.figure.Figure at 0x7f98dd411b50>"
       ]
      }
     ],
     "prompt_number": 121
    },
    {
     "cell_type": "code",
     "collapsed": false,
     "input": [
      "# Find the degree of vertices 1 and 4, sum out the columns 1 and 4\n",
      "\n",
      "print(A[:,0]).T #First column\n",
      "print(A[:,3]).T #Fourth column\n",
      "\n",
      "degree_1 = int(sum(A[:,0]))\n",
      "\n",
      "print (\"The degree of vertex 1 is {}\".format(degree_1) )\n",
      "\n",
      "degree_4 = int(sum(A[:,3]))\n",
      "\n",
      "print (\"The degree of vertex 4 is {}\".format(degree_4) )\n",
      "\n",
      "print (\"Using networkx's builtin we have the degree for vertices 1 and 4 to be {} and {}\".format(G_simple.degree(1),G_simple.degree(4)))\n"
     ],
     "language": "python",
     "metadata": {},
     "outputs": [
      {
       "output_type": "stream",
       "stream": "stdout",
       "text": [
        "[[ 0.  1.  0.  1.]]\n",
        "[[ 1.  1.  1.  0.]]\n",
        "The degree of vertex 1 is 2\n",
        "The degree of vertex 4 is 3\n",
        "Using networkx's builtin we have the degree for vertices 1 and 4 to be 2 and 3\n"
       ]
      }
     ],
     "prompt_number": 122
    },
    {
     "cell_type": "code",
     "collapsed": false,
     "input": [
      "# Total number of degrees given n = 4 nodes and m = 5 edges \n",
      "\n",
      "total_degrees = A.sum()\n",
      "\n",
      "m = 5.\n",
      "\n",
      "n = 4.\n",
      "\n",
      "print (\"\\n The total degrees found by summing out the matrix is {:.0f}.\".format(total_degrees))\n",
      "\n",
      "print (\"\\n To double check 2m = 10, as our number of edges m = 5.\")\n",
      "\n",
      "mean_degree = 2*m / n\n",
      "\n",
      "density = 2*m / ((n*(n-1)))\n",
      "\n",
      "print (\"\\n The mean degree is {} and the density is {:.2f}\".format(mean_degree, density))"
     ],
     "language": "python",
     "metadata": {},
     "outputs": [
      {
       "output_type": "stream",
       "stream": "stdout",
       "text": [
        "\n",
        " The total degrees found by summing out the matrix is 10.\n",
        "\n",
        " To double check 2m = 10, as our number of edges m = 5.\n",
        "\n",
        " The mean degree is 2.5 and the density is 0.83\n"
       ]
      }
     ],
     "prompt_number": 123
    },
    {
     "cell_type": "markdown",
     "metadata": {},
     "source": [
      "<u> Paths </u>\n",
      "\n",
      "A path is the route from one vertex to another in a network. Paths that do not intersect themselves are called self-avoiding paths. \n",
      "\n",
      "The number of edges along a path is the length of the path (number of hops to vertices).\n",
      "\n",
      "For a path of length 3 from j to l to k to i, the product in the adjacency matrix should be 1 for $A_{ik} A_{kl} A_{lj}$. So the total number of paths of length 3 from j to i is: $$N_{ij}^{(3)} = \\sum_{k,l=1}^n A_{ik} A_{kl} A_{lj} = [A^3]_{ij}$$\n",
      "\n",
      "In general: $$N_{ij}^{(r)} = [A^r]_{ij}$$\n",
      "\n",
      "The number of loops of length r in a network is: $$L_r = \\sum_{i=1}^n [A^r]_{ii} = Tr A^r$$\n",
      "\n",
      "This is also related to the eigenvalues of the adjacency matrix.\n",
      "\n",
      "For an undirected and directed graph, the sum of eigenvalues raised to the exponent r is equal to $L_r$.\n",
      "\n",
      "<u> Geodesic Path </u>\n",
      "\n",
      "A geodesic path is the shortest path between two vertices. The length of that path, is the geodesic distance. They are always self-avoiding, but not necessarily unique.\n",
      "\n",
      "The longest geodesic path in the network is the diameter of the network.\n",
      "\n",
      "<u> Eulerian and hamiltonian paths </u>\n",
      "\n",
      "A Hamiltonian path is a self-avoiding path that passes each vertex exactly once. An Eulerian path is a path that passes each edge in the network exactly once. There may be more than one or none of these paths in a network.\n",
      "\n",
      "We can only have an Eulerian path if there are exactly two or zero vertices with an odd degree. The path must enter and leave every vertex except the first and last (odd degrees)."
     ]
    },
    {
     "cell_type": "code",
     "collapsed": false,
     "input": [
      "# Continue from previous graph\n",
      "\n",
      "N2 = A*A\n",
      "\n",
      "print N2\n",
      "\n",
      "print (\"\\n The number of paths of length two from vertex 3 to 1 is 2.\")\n",
      "\n",
      "print (\"\\n Essentially, they are (3,2,1) and (3,4,1), hence in the matrix, element (3,1) has value 2.\")\n",
      "\n",
      "L2 = np.trace(A*A)\n",
      "\n",
      "print (\"\\n The number of cycles of length 2 is {:.0f}.\".format(L2))"
     ],
     "language": "python",
     "metadata": {},
     "outputs": [
      {
       "output_type": "stream",
       "stream": "stdout",
       "text": [
        "[[ 2.  1.  2.  1.]\n",
        " [ 1.  3.  1.  2.]\n",
        " [ 2.  1.  2.  1.]\n",
        " [ 1.  2.  1.  3.]]\n",
        "\n",
        " The number of paths of length two from vertex 3 to 1 is 2.\n",
        "\n",
        " Essentially, they are (3,2,1) and (3,4,1), hence in the matrix, element (3,1) has value 2.\n",
        "\n",
        " The number of cycles of length 2 is 10.\n"
       ]
      }
     ],
     "prompt_number": 126
    },
    {
     "cell_type": "markdown",
     "metadata": {},
     "source": [
      "#### Components\n",
      "\n",
      "Sometimes two vertices are not connected by any path. In essence, there is no path between the two vertices, they are in different subgroups called components. All vertices in a component is connected (there is a path between them). We can incorporate components into an adjacency matrix in block diagonal form. \n",
      "\n",
      "<u> Components in directed networks </u>\n",
      "\n",
      "If there is a path from A to B and back from B to A it is strongly connected. Strongly connected vertices in a component must then belong to at least one cycle. The out-component is the set of vertices you can reach starting at an arbitrary vertex. All members of strongly connected components have the same out-components. \n",
      "\n",
      "The in-component of a vertex A, is the set of vertices that can reach A via a path. A vertex's strongly connected component is the intersection of its in and out components."
     ]
    },
    {
     "cell_type": "markdown",
     "metadata": {},
     "source": [
      "#### Independent paths, connectivity, and cut sets\n",
      "\n",
      "The number of independent paths between vertices gives a measure of how strongly connected they are. A path can be edge-independent and verex-independent. Vertex independent paths only share starting and ending vertices. Two paths can be edge-independent but not vertex-independent, but vertex-independency implies edge-independency. \n",
      "\n",
      "Another name for independent paths is disjoint paths.\n",
      "\n",
      "The number of disjoint paths between a pair of vertices is called the connectivity of the vertices (either edge-connectivity or vertex connectivity).\n",
      "\n",
      "A pair of vertices with only one vertex independent path can give an idea of where the bottlenecks are.\n",
      "\n",
      "A vertex cut set is a set of vertices that will disconnect a specific pair of vertices if they are removed. An edge cut set is in the same vein, except we remove edges.\n",
      "\n",
      "The minimum cut set is the smallest cut set needed to disconnect a pair of vertices. The size of the sets are the same, but there may be more than one. \n",
      "\n",
      "The size of the minimum vertex cut set for a given pair of vertices is equal to the vertex connectivity of the vertices. Same for edge connectivity.\n",
      "\n",
      "The maximum flow is equal is the number of edge-independent path times the the \"pipe capacity r\". It is thought of as the maximum rate something (water) can flow from one vertex to another.\n",
      "\n",
      "If we have n independent paths between A and B, we have nr lower bound on maximum flow. If we remove up to n-1 independent paths, we reduce up to (n-1)r of the flow. Removing all the edges, we remove at most nr, the upper bound. \n",
      "\n",
      "<u> Maximum flows and cut sets on weighted networks</u>\n",
      "\n",
      "Edges with weights can represent things such as capacity on a road or internet line. Minimum edge cut set here is such that if we disconnect a pair of vertices, the sum of the weights on the edges has a minimum value. \n",
      "\n",
      "The maximum flow between a pair of vertices is equal to the sum of weights of the minimum edge cut set."
     ]
    },
    {
     "cell_type": "markdown",
     "metadata": {},
     "source": [
      "#### The Graph Laplacian\n",
      "\n",
      "A matrix similar to the adjacency matrix that can tell us about a network's structure is called the graph Laplacian. \n",
      "\n",
      "<u> Diffusion </u>\n",
      "\n",
      "A gas diffuses from where it is highly concentrated to areas of lower concentration.. We can think of diffusion in networks like the spread of a disease. \n",
      "\n",
      "Suppose we have some amount of a liquid (or some sort of substance) and two vertices i and j. There is $\\psi_i$ and $\\psi_j$ amount of the liquid at the vertices. We describe the rate to which the liquid is flowing from j to i by $C ( \\psi_j - \\psi_i ) $ where C is called the diffusion constant. So in some small change in time, we have the amount of liquid going from j to i as $C ( \\psi_j - \\psi_i ) dt $. We can then find the rate of change of the amount of liquid at vertex i as:\n",
      "\n",
      "$$ \\frac{d\\psi_i}{dt} = C \\sum_j A_{ij} (\\psi_j - \\psi_i) $$\n",
      "\n",
      "If we expand the right side of the equation, we end up with \n",
      "\n",
      "$$\n",
      "\\begin{aligned}\n",
      "C \\sum_j A_{ij} \\psi_j - C \\psi_i \\sum_j A_{ij} \n",
      "&= C \\sum_j A_{ij} \\psi_j - C \\psi_i k_i \\\\\n",
      "&= C \\sum_j (A_{ij} - \\delta_{ij} k_i) \\psi_j\n",
      "\\end{aligned}\n",
      "$$\n"
     ]
    },
    {
     "cell_type": "markdown",
     "metadata": {},
     "source": [
      "Here, $k_i$ is the degree of the the vertex i and $\\delta_{ij}$ is an indicator function which is equal to 1 if i = j and 0 otherwise."
     ]
    },
    {
     "cell_type": "markdown",
     "metadata": {},
     "source": [
      "In matrix form, if we have a vector $\\psi$ whose components are $\\psi_i$, and D a diagonal matrix with the vertex degrees as the values of its diagonal, then:\n",
      "\n",
      "$$ \\frac{d\\psi}{dt} = C(A - D) \\psi $$\n",
      "\n",
      "Suppose we take the matrix L to be:\n",
      "\n",
      "$$ L = D - A $$\n",
      "\n",
      "We then end up with:\n",
      "\n",
      "$$ \\frac{d \\psi}{dt} + C L \\psi = 0 $$\n",
      "\n",
      "This is in the same form as the ordinary diffusion equation for a gas, except we replaced the Laplacian operator with the matrix L (hence the name \"the graph Laplacian\". \n",
      "\n",
      "The elements of L are:"
     ]
    },
    {
     "cell_type": "markdown",
     "metadata": {},
     "source": [
      "$$L_{ij}  = \n",
      "\\left\\{\\begin{matrix}\n",
      "k_i, & \\text{ if i = j }\\\\\n",
      "-1, & \\text{if } i \\neq j \\text{ and there is an edge (i,j)}\\\\\n",
      "0, & \\text{otherwise}\n",
      "\\end{matrix}\\right.$$"
     ]
    },
    {
     "cell_type": "markdown",
     "metadata": {},
     "source": [
      "If we want to solve the diffusion equation, we can write the vector $\\psi$ as a linear combination of the eigenvectors of the Laplacian:\n",
      "\n",
      "$$ \\psi(t) = \\sum_i a_i(t) v_i $$\n",
      "\n",
      "where $v_i$ are the eigenvectors of L, such that $ L v_i = \\lambda_i v_i $ where each lambda is an eigenvalue to the corresponding eigenvector.\n",
      "\n",
      "Substituting the above into the diffusion equation we end up with:\n",
      "\n",
      "$$ \\sum_i (\\frac{d a_i } {dt} + C \\lambda_i a_i) v_i = 0 $$\n",
      "\n",
      "because eigenvectors of the Laplacian are orthgonal, since it is a symmetric matrix, hence the dot product of the above equation with any eigenvector $v_j$ begets us:\n",
      "\n",
      "$$ \\frac{d a_i } {dt} + C \\lambda_i a_i = 0 $$\n",
      "\n",
      "whose solution is:\n",
      "\n",
      "$$ a_i(t) = a_i(0)e^{-C\\lambda_it} $$\n",
      "\n",
      "\n"
     ]
    },
    {
     "cell_type": "markdown",
     "metadata": {},
     "source": [
      "<u> Eigenvalues of the graph laplacian </u>\n",
      "\n",
      "The eigenvalues of the Laplacian are non-negative (refer to book for proof). There is also always at least one zero eigenvalue. Therefore the Laplacian has no inverse (singular matrix from the zero eigenvalue). \n",
      "\n",
      "Physically, this means that the diffusion equation of any network does not contain growing exponentials, and the solution does not diverge as t goes to infinity.\n",
      "\n",
      "The number of zero eigenvalues is equal to the number of components in the network. "
     ]
    },
    {
     "cell_type": "markdown",
     "metadata": {},
     "source": [
      "### Random Walks\n",
      "\n",
      "Going from vertex to vertex uniformly at random along the edges that connect the vertices is a random walk. A self-avoiding walk does not retrace their steps, revisit vertices, or go along the same edge more than once.\n",
      "\n",
      "For a random walk that takes t random steps, the probability of being at vertex i at time t is $p_i(t)$. If the walk is at vertex j at time t-1, and vertex j is of degree $k_j$, then the probability of going to any of those edges is $1/k_j$. Therefore,\n",
      "\n",
      "$$ p_i(t) = \\sum_j \\frac{A_{ij}}{k_j} p_j (t-1) $$\n",
      "\n",
      "or in matrix form:\n",
      "\n",
      "$$ p(t) = AD^{-1}p(t-1) $$\n",
      "\n",
      "Here p is a vector with components $p_i$ and D is a diagonal matrix with the vertex degrees as its elements.\n",
      "\n",
      "If we examine the limit as t approaches infinity, the probability distribution over vertices is $p_i(\\infty) = \\sum_j A_{ij} p_j(\\infty) / k_j$. In matrix form it is:\n",
      "\n",
      "$$ p = AD^{-1}p $$\n",
      "\n",
      "which can be written as:\n",
      "\n",
      "$$ (I - AD^{-1})p = (D - A)D^{-1} p = L D^{-1} p = 0 $$\n",
      "\n",
      "This means that $D^{-1}p$ is an eigenvector of the Laplacian which has eigenvalue 0. That eigenvector is the vector which has all components equal. So $D^{-1} p = \\alpha 1$, where 1 is a vector of 1's. Multiplying both sides by the matrix D, we get $p_i = \\alpha k_i$, since $p = \\alpha D 1$. \n",
      "\n",
      "An intuitive interpretation is that the probability of being at vertex i is proportional to the degree of that vertex in the long run. \n",
      "\n",
      "If we choose alpha to normalize $p_i$, then $p_i = \\frac{k_i}{\\sum_j k_j} = \\frac{k_i}{2m}$. "
     ]
    },
    {
     "cell_type": "markdown",
     "metadata": {},
     "source": [
      "What is the average number steps a random walk takes to go from a vertex u to another v? In other words, what is the mean first passage time from u to v?\n",
      "\n",
      "An absorbing random walk is one where there are vertices that we can enter, but not leave. Consider $p_v(t)$ where v is the only absorbing vertex. The probability of the first passage time being exactly t is $p_v(t) - p_v(t-1)$. The mean first passage time is then essential an expected value, being:\n",
      "\n",
      "$$ \\tau = \\sum_{t=0}^\\infty t[p_v(t) - p_v(t-1)] $$"
     ]
    },
    {
     "cell_type": "markdown",
     "metadata": {},
     "source": [
      "$$ p_i(t) = \\sum_j \\frac{A_{ij}}{k_j} p_j (t-1) = \\sum_{j \\neq v} \\frac{A_{ij}}{k_j} p_j (t-1)$$\n",
      "\n",
      "In matrix form this is:\n",
      "\n",
      "$$ p'(t) = A'D'^{-1}p'(t-1) $$\n",
      "\n",
      "This is true because since we can go from i to v but not from v to i, so $A_{iv} = 0$. Removing the vth element from p and the vth row and column from A and D, we have p', A', and D'. A' and D' are now symmetric matrices. \n",
      "\n",
      "With iteration, we end up with:\n",
      "\n",
      "$$ p'(t) = [A'D'^{-1}]^tp'(0) $$\n",
      "\n",
      "We know that $p_v(t) = 1 - \\sum_{i \\neq v} p_i(t) = 1 - 1 \\cdot p'(t)$.\n",
      "\n",
      "Substituting the above for the equation for the mean first passage time we get: \n",
      "\n",
      "$$ \\tau = \\sum_{t=0}^\\infty t \\space 1 \\cdot [p'(t - 1) - p'(t)] = 1 \\cdot [I - A' D'^{-1}]^{-1} \\cdot p'(0)$$ \n",
      "\n"
     ]
    },
    {
     "cell_type": "markdown",
     "metadata": {},
     "source": [
      "we used the fact that $ \\sum_{t=0} ^ \\infty t (M^{t-1} - M^t) = [I-M]^{-1} $ for any matrix M if the sum converges. Also, note that $[I - A'D'^{-1}]^{-1} = D'[D'-A']^{-1} = D'L'^{-1}$, so:\n",
      "\n",
      "$$ \\tau = 1 \\cdot D'L'^{-1} \\cdot p'(0) $$\n",
      "\n",
      "where L' is called the vth reduced Laplacian (vth column and row removed), and for a walk starting at vertex u, the p'(0) only has one non-zero element, the uth one, being 1 (it is a probability distribution).\n",
      "\n",
      "Introducing a symmetric matrix $\\Lambda^{(v)}$ where we insert a row and column of zeroes at the vth row and column into $L'^{-1}$. Finally, we can solve for the mean first passage time by taking:\n",
      "\n",
      "$$ \\tau = \\sum_i k_i \\Lambda_{iu}^{(v)} $$\n",
      "\n",
      "where $k_i$ is found on the diagonal matrix D', which corresponds to the degree of each vertex. Any mean first passage time for a random walk from vertex u to v can be found in this manner.\n",
      "\n"
     ]
    },
    {
     "cell_type": "code",
     "collapsed": false,
     "input": [
      "# Let's find mean first passage time for going to vertex 2 from any vertex\n",
      "\n",
      "nx.draw(G_simple, with_labels = True)"
     ],
     "language": "python",
     "metadata": {},
     "outputs": [
      {
       "metadata": {},
       "output_type": "display_data",
       "png": "[encoded data removed]",
       "text": [
        "<matplotlib.figure.Figure at 0x7f98d9d84e50>"
       ]
      }
     ],
     "prompt_number": 152
    },
    {
     "cell_type": "code",
     "collapsed": false,
     "input": [
      "A = nx.to_numpy_matrix(G_simple)\n",
      "\n",
      "Aprime = np.delete(A,1,axis=0) #Index starts from 0\n",
      "\n",
      "Aprime = np.delete(Aprime,1,axis=1)\n",
      "\n",
      "print Aprime"
     ],
     "language": "python",
     "metadata": {},
     "outputs": [
      {
       "output_type": "stream",
       "stream": "stdout",
       "text": [
        "[[ 0.  0.  1.]\n",
        " [ 0.  0.  1.]\n",
        " [ 1.  1.  0.]]\n"
       ]
      }
     ],
     "prompt_number": 153
    },
    {
     "cell_type": "code",
     "collapsed": false,
     "input": [
      "degrees = G_simple.degree().values()\n",
      "\n",
      "D = np.zeros((4,4))\n",
      "\n",
      "np.fill_diagonal(D,degrees)\n",
      "\n",
      "Dprime = np.delete(D,1,0)\n",
      "\n",
      "Dprime = np.delete(Dprime,1,1) \n",
      "\n",
      "print Dprime"
     ],
     "language": "python",
     "metadata": {},
     "outputs": [
      {
       "output_type": "stream",
       "stream": "stdout",
       "text": [
        "[[ 2.  0.  0.]\n",
        " [ 0.  2.  0.]\n",
        " [ 0.  0.  3.]]\n"
       ]
      }
     ],
     "prompt_number": 154
    },
    {
     "cell_type": "code",
     "collapsed": false,
     "input": [
      "L = D - A\n",
      "\n",
      "Lprime = Dprime - Aprime\n",
      "\n",
      "print Lprime"
     ],
     "language": "python",
     "metadata": {},
     "outputs": [
      {
       "output_type": "stream",
       "stream": "stdout",
       "text": [
        "[[ 2.  0. -1.]\n",
        " [ 0.  2. -1.]\n",
        " [-1. -1.  3.]]\n"
       ]
      }
     ],
     "prompt_number": 158
    },
    {
     "cell_type": "code",
     "collapsed": false,
     "input": [
      "Lambda_incomplete = Lprime.I"
     ],
     "language": "python",
     "metadata": {},
     "outputs": [],
     "prompt_number": 161
    },
    {
     "cell_type": "code",
     "collapsed": false,
     "input": [
      "Lambda = np.insert(Lambda_incomplete, 1, np.zeros(3),0)"
     ],
     "language": "python",
     "metadata": {},
     "outputs": [],
     "prompt_number": 167
    },
    {
     "cell_type": "code",
     "collapsed": false,
     "input": [
      "Lambda = np.insert(Lambda, 1, np.zeros(4),1)\n",
      "\n",
      "print Lambda"
     ],
     "language": "python",
     "metadata": {},
     "outputs": [
      {
       "output_type": "stream",
       "stream": "stdout",
       "text": [
        "[[ 0.625  0.     0.125  0.25 ]\n",
        " [ 0.     0.     0.     0.   ]\n",
        " [ 0.125  0.     0.625  0.25 ]\n",
        " [ 0.25   0.     0.25   0.5  ]]\n"
       ]
      }
     ],
     "prompt_number": 168
    },
    {
     "cell_type": "code",
     "collapsed": false,
     "input": [
      "k = np.diag(Dprime)"
     ],
     "language": "python",
     "metadata": {},
     "outputs": [],
     "prompt_number": 170
    },
    {
     "cell_type": "code",
     "collapsed": false,
     "input": [
      "k = np.insert(k,1,0)\n",
      "\n",
      "print k"
     ],
     "language": "python",
     "metadata": {},
     "outputs": [
      {
       "output_type": "stream",
       "stream": "stdout",
       "text": [
        "[ 2.  0.  2.  3.]\n"
       ]
      }
     ],
     "prompt_number": 177
    },
    {
     "cell_type": "code",
     "collapsed": false,
     "input": [
      "# Mean first passage times for going to vertex 2 from any starting index\n",
      "\n",
      "print k * Lambda"
     ],
     "language": "python",
     "metadata": {},
     "outputs": [
      {
       "output_type": "stream",
       "stream": "stdout",
       "text": [
        "[[ 2.25  0.    2.25  2.5 ]]\n"
       ]
      }
     ],
     "prompt_number": 181
    }
   ],
   "metadata": {}
  }
 ]
}